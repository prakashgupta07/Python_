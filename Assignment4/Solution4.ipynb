{
 "cells": [
  {
   "cell_type": "markdown",
   "id": "71312366",
   "metadata": {},
   "source": [
    "### 1. Write a Python Program to Find the Factorial of a Number?"
   ]
  },
  {
   "cell_type": "code",
   "execution_count": 10,
   "id": "ab25947c",
   "metadata": {},
   "outputs": [
    {
     "name": "stdout",
     "output_type": "stream",
     "text": [
      "Enter the number:5\n",
      "Factorial of 5 is : 120\n"
     ]
    }
   ],
   "source": [
    "#Take number from user\n",
    "num=int(input(\"Enter the number:\"))\n",
    "factorial=1\n",
    "for i in range(1,num+1):\n",
    "    factorial=factorial*i\n",
    "print(f'Factorial of {num} is :',factorial)"
   ]
  },
  {
   "cell_type": "markdown",
   "id": "9500fe7c",
   "metadata": {},
   "source": [
    "### 2. Write a Python Program to Display the multiplication Table?"
   ]
  },
  {
   "cell_type": "code",
   "execution_count": 13,
   "id": "1c7ba23e",
   "metadata": {},
   "outputs": [
    {
     "name": "stdout",
     "output_type": "stream",
     "text": [
      "Enter the number:10\n",
      "Enter the number:10\n",
      "1 x 10 = 10\n",
      "2 x 10 = 20\n",
      "3 x 10 = 30\n",
      "4 x 10 = 40\n",
      "5 x 10 = 50\n",
      "6 x 10 = 60\n",
      "7 x 10 = 70\n",
      "8 x 10 = 80\n",
      "9 x 10 = 90\n",
      "10 x 10 = 100\n"
     ]
    }
   ],
   "source": [
    "# Take number from user to display the table\n",
    "num=int(input('Enter the number:'))\n",
    "# take number from user to display term\n",
    "term=int(input('Enter the number:'))\n",
    "\n",
    "for i in range(1,term+1):\n",
    "    print(i,\"x\",num,'=',i*num)\n",
    "    "
   ]
  },
  {
   "cell_type": "markdown",
   "id": "feecb723",
   "metadata": {},
   "source": [
    "### 3. Write a Python Program to Print the Fibonacci sequence?"
   ]
  },
  {
   "cell_type": "code",
   "execution_count": 26,
   "id": "788b6a33",
   "metadata": {},
   "outputs": [
    {
     "name": "stdout",
     "output_type": "stream",
     "text": [
      "Enter the number:5\n",
      "0,1,1,2,3,"
     ]
    }
   ],
   "source": [
    "# take number from user \n",
    "num=int(input('Enter the number:'))\n",
    "n1,n2=0,1\n",
    "if num<=0:\n",
    "    print('Please enter positive number:')\n",
    "elif num==1:\n",
    "    print(\"Fibonacci sequence upto\",n,\":\")\n",
    "    print(n1)\n",
    "else:\n",
    "    for i in range(num):\n",
    "        print(n1,end=',')\n",
    "        sum=n1+n2\n",
    "        n1=n2\n",
    "        n2=sum\n",
    "\n"
   ]
  },
  {
   "cell_type": "markdown",
   "id": "bfe46133",
   "metadata": {},
   "source": [
    "### 4. Write a Python Program to Check Armstrong Number?"
   ]
  },
  {
   "cell_type": "code",
   "execution_count": 46,
   "id": "5f2e60aa",
   "metadata": {},
   "outputs": [
    {
     "name": "stdout",
     "output_type": "stream",
     "text": [
      "Enter the number153\n",
      "153 is an Armstrong number\n"
     ]
    }
   ],
   "source": [
    "# Take number from user\n",
    "num=input('Enter the number')\n",
    "length=len(num)\n",
    "number=int(num)\n",
    "sum=0\n",
    "temp=number\n",
    "for i in range(length):\n",
    "    n=number%10\n",
    "    sum+=n**length\n",
    "    number//=10\n",
    "if sum==temp:\n",
    "    print(temp,'is an Armstrong number')\n",
    "else:\n",
    "    print(temp, 'is not an Armstrong number')"
   ]
  },
  {
   "cell_type": "markdown",
   "id": "5a95bc3b",
   "metadata": {},
   "source": [
    "### 5. Write a Python Program to Find Armstrong Number in an Interval?"
   ]
  },
  {
   "cell_type": "code",
   "execution_count": 53,
   "id": "5f994c49",
   "metadata": {},
   "outputs": [
    {
     "name": "stdout",
     "output_type": "stream",
     "text": [
      "Enter the first interval number:1\n",
      "Enter the second interval number:1000\n",
      "[1, 2, 3, 4, 5, 6, 7, 8, 9, 153, 370, 371, 407]\n"
     ]
    }
   ],
   "source": [
    "x=int(input('Enter the first interval number:'))\n",
    "y=int(input('Enter the second interval number:'))\n",
    "li=[]\n",
    "for num in range(x,y):\n",
    "    string=str(num) # converting int into string\n",
    "    length=len(string)# count the number of digit\n",
    "    number=int(string) # Again converting into int\n",
    "    sum=0\n",
    "    temp=number # storing number into temp\n",
    "    for i in range(length):\n",
    "        n=number%10\n",
    "        sum+=n**length\n",
    "        number//=10\n",
    "    if sum==temp:\n",
    "        li.append(sum)# appending number into li between two number\n",
    "    \n",
    "print(li)  # printing the list"
   ]
  },
  {
   "cell_type": "markdown",
   "id": "486ed19c",
   "metadata": {},
   "source": [
    "### 6. Write a Python Program to Find the Sum of Natural Numbers?"
   ]
  },
  {
   "cell_type": "code",
   "execution_count": 54,
   "id": "e765a43d",
   "metadata": {},
   "outputs": [
    {
     "name": "stdout",
     "output_type": "stream",
     "text": [
      "Enter the number:10\n",
      "55\n"
     ]
    }
   ],
   "source": [
    "# take the number from user to find the sum of natural number\n",
    "num=int(input('Enter the number:'))\n",
    "sum=0\n",
    "for i in range(num+1):\n",
    "    sum+=i\n",
    "print(sum)"
   ]
  },
  {
   "cell_type": "code",
   "execution_count": null,
   "id": "1e99ad51",
   "metadata": {},
   "outputs": [],
   "source": []
  }
 ],
 "metadata": {
  "kernelspec": {
   "display_name": "Python 3 (ipykernel)",
   "language": "python",
   "name": "python3"
  },
  "language_info": {
   "codemirror_mode": {
    "name": "ipython",
    "version": 3
   },
   "file_extension": ".py",
   "mimetype": "text/x-python",
   "name": "python",
   "nbconvert_exporter": "python",
   "pygments_lexer": "ipython3",
   "version": "3.9.13"
  }
 },
 "nbformat": 4,
 "nbformat_minor": 5
}
