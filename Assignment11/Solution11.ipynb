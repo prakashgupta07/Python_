{
 "cells": [
  {
   "cell_type": "markdown",
   "id": "3cbf2215",
   "metadata": {},
   "source": [
    "### 1. Write a Python program to find words which are greater than given length k?"
   ]
  },
  {
   "cell_type": "code",
   "execution_count": 2,
   "id": "b02609ea",
   "metadata": {},
   "outputs": [
    {
     "name": "stdout",
     "output_type": "stream",
     "text": [
      "['Python', 'program', 'greater', 'length']\n"
     ]
    }
   ],
   "source": [
    "\n",
    "n=\" Write a Python program to find words which are greater than given length k\";\n",
    "l=5\n",
    "s=n.split(\" \")\n",
    "l=list(filter(lambda x: (len(x)>l),s))\n",
    "print(l)"
   ]
  },
  {
   "cell_type": "markdown",
   "id": "b19ae17a",
   "metadata": {},
   "source": [
    "### 2. Write a Python program for removing i-th character from a string?"
   ]
  },
  {
   "cell_type": "code",
   "execution_count": 6,
   "id": "382f5d74",
   "metadata": {},
   "outputs": [
    {
     "name": "stdout",
     "output_type": "stream",
     "text": [
      "The string after removal of i'th character : iNuron\n"
     ]
    }
   ],
   "source": [
    "\n",
    "test_str = \"iNeuron\"\n",
    " \n",
    "# Removing char at pos 3\n",
    "new_str = \"\"\n",
    " \n",
    "for i in range(len(test_str)):\n",
    "    if i != 2:\n",
    "        new_str = new_str + test_str[i]\n",
    "print (\"The string after removal of i'th character : \" + new_str)"
   ]
  },
  {
   "cell_type": "markdown",
   "id": "51314e6b",
   "metadata": {},
   "source": [
    "### 3. Write a Python program to split and join a string?"
   ]
  },
  {
   "cell_type": "code",
   "execution_count": 12,
   "id": "a41d0488",
   "metadata": {},
   "outputs": [
    {
     "name": "stdout",
     "output_type": "stream",
     "text": [
      "['Python', 'Progrmming']\n",
      "Python-Progrmming\n"
     ]
    }
   ],
   "source": [
    "def split_string(string):\n",
    " \n",
    "    # Split the string based on space delimiter\n",
    "    list_string = string.split(' ')\n",
    "     \n",
    "    return list_string\n",
    " \n",
    "def join_string(list_string):\n",
    " \n",
    "    # Join the string based on '-' delimiter\n",
    "    string = '-'.join(list_string)\n",
    "     \n",
    "    return string\n",
    " \n",
    "\n",
    "string='Python Progrmming'     \n",
    "# Splitting a string\n",
    "list_string = split_string(string)\n",
    "print(list_string)\n",
    " \n",
    "# Join list of strings into one\n",
    "new_string = join_string(list_string)\n",
    "print(new_string)"
   ]
  },
  {
   "cell_type": "markdown",
   "id": "290d0d09",
   "metadata": {},
   "source": [
    "### 4. Write a Python to check if a given string is binary string or not?"
   ]
  },
  {
   "cell_type": "code",
   "execution_count": 16,
   "id": "8f676ffa",
   "metadata": {},
   "outputs": [
    {
     "name": "stdout",
     "output_type": "stream",
     "text": [
      "Yes\n",
      "No\n"
     ]
    }
   ],
   "source": [
    "def check(string):\n",
    "    try:\n",
    "        int(string, 2)\n",
    "    except ValueError:\n",
    "        return \"No\"\n",
    "    return \"Yes\"\n",
    " \n",
    " \n",
    "\n",
    " \n",
    "string1 = \"101011000111\"\n",
    "string2 = \"201000001\"\n",
    " \n",
    "# function calling\n",
    "print(check(string1))\n",
    "print(check(string2))"
   ]
  },
  {
   "cell_type": "markdown",
   "id": "6da0df33",
   "metadata": {},
   "source": [
    "### 5. Write a Python program to find uncommon words from two Strings?"
   ]
  },
  {
   "cell_type": "code",
   "execution_count": 20,
   "id": "b7bbc430",
   "metadata": {},
   "outputs": [
    {
     "name": "stdout",
     "output_type": "stream",
     "text": [
      "['World', 'Learning', 'Programming', 'the']\n"
     ]
    }
   ],
   "source": [
    "\n",
    " \n",
    "# Function to return all uncommon words\n",
    "def UncommonWords(A, B):\n",
    "    A=A.split()\n",
    "    B=B.split()\n",
    "    x=[]\n",
    "    for i in A:\n",
    "        if i not in B:\n",
    "            x.append(i)\n",
    "    for i in B:\n",
    "        if i not in A:\n",
    "            x.append(i)\n",
    "    x=list(set(x))\n",
    "    return x\n",
    "             \n",
    "\n",
    "A = \"the Python World\"\n",
    "B = \"Learning Python Programming\"\n",
    " \n",
    "# Print required answer\n",
    "print(UncommonWords(A, B))"
   ]
  },
  {
   "cell_type": "markdown",
   "id": "d839ae53",
   "metadata": {},
   "source": [
    "### 6. Write a Python to find all duplicate characters in string?"
   ]
  },
  {
   "cell_type": "code",
   "execution_count": 31,
   "id": "8af0e0a2",
   "metadata": {},
   "outputs": [
    {
     "name": "stdout",
     "output_type": "stream",
     "text": [
      "All the duplicate characters in the string are: \n",
      "e  -  2\n",
      "l  -  3\n",
      "o  -  4\n",
      "m  -  2\n",
      "t  -  3\n",
      "o  -  3\n",
      "t  -  2\n",
      "o  -  2\n",
      "i  -  3\n",
      "a  -  2\n",
      "l  -  2\n",
      "i  -  2\n"
     ]
    }
   ],
   "source": [
    "string = \"Welcome to TutorialsPoint family\";\n",
    "print(\"All the duplicate characters in the string are: \"); \n",
    "# Counting every characters of the string \n",
    "for s in range(0, len(string)): \n",
    "   count = 1; \n",
    "   for t in range(s+1, len(string)):\n",
    "      if(string[s] == string[t] and string[s] != ' '): \n",
    "         count = count + 1; \n",
    "# setting the string t to 0 to avoid printing the characters already taken \n",
    "   string = string[:t] + '0' + string[t+1:]; \n",
    "# If the count is greater than 1, the character is considered as duplicate \n",
    "   if(count > 1 and string[s] != '0'): \n",
    "      print(string[s],\" - \",count);"
   ]
  },
  {
   "cell_type": "markdown",
   "id": "524b467d",
   "metadata": {},
   "source": [
    "### 7. Write a Python Program to check if a string contains any special character?"
   ]
  },
  {
   "cell_type": "code",
   "execution_count": 32,
   "id": "bd18cf8c",
   "metadata": {},
   "outputs": [
    {
     "name": "stdout",
     "output_type": "stream",
     "text": [
      "The string does not contain special characters.\n",
      "The string contains special characters.\n"
     ]
    }
   ],
   "source": [
    "def has_special_char(s):\n",
    "  for c in s:\n",
    "    if not (c.isalpha() or c.isdigit() or c == ' '):\n",
    "      return True\n",
    "  return False\n",
    " \n",
    "# Test the function\n",
    "s = \"Hello World\"\n",
    "if has_special_char(s):\n",
    "  print(\"The string contains special characters.\")\n",
    "else:\n",
    "  print(\"The string does not contain special characters.\")\n",
    " \n",
    "s = \"Hello@World\"\n",
    "if has_special_char(s):\n",
    "  print(\"The string contains special characters.\")\n",
    "else:\n",
    "  print(\"The string does not contain special characters.\")\n",
    "#This code is contributed by Edula Vinay Kumar Reddy"
   ]
  }
 ],
 "metadata": {
  "kernelspec": {
   "display_name": "Python 3 (ipykernel)",
   "language": "python",
   "name": "python3"
  },
  "language_info": {
   "codemirror_mode": {
    "name": "ipython",
    "version": 3
   },
   "file_extension": ".py",
   "mimetype": "text/x-python",
   "name": "python",
   "nbconvert_exporter": "python",
   "pygments_lexer": "ipython3",
   "version": "3.9.13"
  }
 },
 "nbformat": 4,
 "nbformat_minor": 5
}
