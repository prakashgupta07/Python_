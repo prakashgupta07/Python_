{
 "cells": [
  {
   "cell_type": "markdown",
   "id": "ff9b7549",
   "metadata": {},
   "source": [
    "### 1. Write a Python program to find sum of elements in list?"
   ]
  },
  {
   "cell_type": "code",
   "execution_count": null,
   "id": "558256f8",
   "metadata": {},
   "outputs": [],
   "source": [
    "total = 0\n",
    "# creating a list\n",
    "list1 =[1,2,3,4,5]\n",
    "for i in range(0, len(list1)):\n",
    "   total = total + list1[i]\n",
    "# main\n",
    "print(\"Sum of all elements in given list: \", total)\n"
   ]
  },
  {
   "cell_type": "markdown",
   "id": "ecfdd772",
   "metadata": {},
   "source": [
    "### 2. Write a Python program to  Multiply all numbers in the list?"
   ]
  },
  {
   "cell_type": "code",
   "execution_count": null,
   "id": "f2de66e3",
   "metadata": {},
   "outputs": [],
   "source": [
    "total = 1\n",
    "# creating a list\n",
    "list1 =[1,2,3,4,5]\n",
    "for i in range(0, len(list1)):\n",
    "    total = total * list1[i]\n",
    "# main\n",
    "print(\"Multiply of all elements in given list: \", total)"
   ]
  },
  {
   "cell_type": "markdown",
   "id": "7b36cffb",
   "metadata": {},
   "source": [
    "### 3. Write a Python program to find smallest number in a list?"
   ]
  },
  {
   "cell_type": "code",
   "execution_count": null,
   "id": "037552d2",
   "metadata": {},
   "outputs": [],
   "source": [
    "# Python program to find smallest\n",
    "# number in a list\n",
    "\n",
    "# list of numbers\n",
    "list1 = [10, 20, 4, 45, 99]\n",
    "\n",
    "# sorting the list\n",
    "list1.sort()\n",
    "\n",
    "# printing the first element\n",
    "print(\"Smallest element is:\", list1[0])\n"
   ]
  },
  {
   "cell_type": "markdown",
   "id": "1c785c9f",
   "metadata": {},
   "source": [
    "### 4. Write a Python program to find largest number in a list?"
   ]
  },
  {
   "cell_type": "code",
   "execution_count": null,
   "id": "c9f52e51",
   "metadata": {},
   "outputs": [],
   "source": [
    "# Python program to find Largest\n",
    "# number in a list\n",
    "\n",
    "# list of numbers\n",
    "list1 = [10, 20, 4, 45, 99]\n",
    "\n",
    "# sorting the list\n",
    "list1.sort()\n",
    "\n",
    "# printing the last element\n",
    "print(\"Largest element is:\", list1[-1])\n"
   ]
  },
  {
   "cell_type": "markdown",
   "id": "64fd2eb0",
   "metadata": {},
   "source": [
    "### 5. Write a Python program to find second largest number in a list?"
   ]
  },
  {
   "cell_type": "code",
   "execution_count": null,
   "id": "1482309e",
   "metadata": {},
   "outputs": [],
   "source": [
    "# Python program to find second Largest\n",
    "# number in a list\n",
    "\n",
    "# list of numbers\n",
    "list1 = [10, 20, 4, 45, 99]\n",
    "\n",
    "# sorting the list\n",
    "list1.sort()\n",
    "\n",
    "# printing the second last element\n",
    "print(\"Largest element is:\", list1[-2])"
   ]
  },
  {
   "cell_type": "markdown",
   "id": "400b32c6",
   "metadata": {},
   "source": [
    "### 6. Write a Python program to find N largest elements from a list?"
   ]
  },
  {
   "cell_type": "code",
   "execution_count": null,
   "id": "59b5ecf6",
   "metadata": {},
   "outputs": [],
   "source": [
    "\n",
    "# Python program to find N largest\n",
    "# element from given list of integers\n",
    " \n",
    "# Function returns N largest elements\n",
    "def Nmaxelements(list1, N):\n",
    "    final_list = []\n",
    " \n",
    "    for i in range(0, N):\n",
    "        max1 = 0\n",
    "         \n",
    "        for j in range(len(list1)):    \n",
    "            if list1[j] > max1:\n",
    "                max1 = list1[j];\n",
    "                 \n",
    "        list1.remove(max1);\n",
    "        final_list.append(max1)\n",
    "         \n",
    "    print(final_list)\n",
    " \n",
    "# Driver code\n",
    "list1 = [2, 6, 41, 85, 0, 3, 7, 6, 10]\n",
    "N = 5\n",
    " \n",
    "# Calling the function\n",
    "Nmaxelements(list1, N)"
   ]
  },
  {
   "cell_type": "markdown",
   "id": "d58cb2f1",
   "metadata": {},
   "source": [
    "### 7. Write a Python program to print even numbers in a list?"
   ]
  },
  {
   "cell_type": "code",
   "execution_count": null,
   "id": "3f6e08d1",
   "metadata": {},
   "outputs": [],
   "source": [
    "#create a list\n",
    "list1 = [2, 6, 41, 85, 0, 3, 7, 6, 10]\n",
    "even=[]\n",
    "for i in list1:\n",
    "    if i%2==0:\n",
    "        even.append(i)\n",
    "print('Even number is' ,even)"
   ]
  },
  {
   "cell_type": "markdown",
   "id": "d8b9dd15",
   "metadata": {},
   "source": [
    "### 8. Write a Python program to print odd numbers in a List?"
   ]
  },
  {
   "cell_type": "code",
   "execution_count": null,
   "id": "20131df1",
   "metadata": {},
   "outputs": [],
   "source": [
    "#create a list\n",
    "list1 = [2, 6, 41, 85, 0, 3, 7, 6, 10]\n",
    "odd=[]\n",
    "for i in list1:\n",
    "    if i%2!=0:\n",
    "        odd.append(i)\n",
    "print('Odd number is' ,odd)"
   ]
  },
  {
   "cell_type": "markdown",
   "id": "ee68842c",
   "metadata": {},
   "source": [
    "### 9. Write a Python program to Remove empty List from List?"
   ]
  },
  {
   "cell_type": "code",
   "execution_count": null,
   "id": "28e5194c",
   "metadata": {},
   "outputs": [],
   "source": [
    "\n",
    " \n",
    "# Initializing list\n",
    "test_list = [5, 6, [], 3, [], [], 9]\n",
    " \n",
    "# printing original list\n",
    "print(\"The original list is : \" + str(test_list))\n",
    " \n",
    "# Remove empty List from List\n",
    "# using list comprehension\n",
    "res = [i for i in test_list if i != []]\n",
    " \n",
    "# printing result\n",
    "print(\"List after empty list removal : \" + str(res))"
   ]
  },
  {
   "cell_type": "markdown",
   "id": "c265a8a0",
   "metadata": {},
   "source": [
    "### 10. Write a Python program to Cloning or Copying a list?"
   ]
  },
  {
   "cell_type": "code",
   "execution_count": null,
   "id": "25fdab2a",
   "metadata": {},
   "outputs": [],
   "source": [
    "\n",
    "# Python code to clone or copy a list\n",
    "def Cloning(li1):\n",
    "    li_copy = []\n",
    "    li_copy.extend(li1)\n",
    "    return li_copy\n",
    " \n",
    "li1 = [4, 8, 2, 10, 15, 18]\n",
    "li2 = Cloning(li1)\n",
    "print(\"Original List:\", li1)\n",
    "print(\"After Cloning:\", li2)"
   ]
  },
  {
   "cell_type": "markdown",
   "id": "449f0fa5",
   "metadata": {},
   "source": [
    "### 11. Write a Python program to Count occurrences of an element in a list?"
   ]
  },
  {
   "cell_type": "code",
   "execution_count": null,
   "id": "d608715f",
   "metadata": {},
   "outputs": [],
   "source": [
    "\n",
    "# Python code to count the number of occurrences\n",
    "def countX(lst, x):\n",
    "    count = 0\n",
    "    for i in lst:\n",
    "        if (i == x):\n",
    "            count = count + 1\n",
    "    return count\n",
    " \n",
    " \n",
    "# Driver Code\n",
    "lst = [8, 6, 8, 10, 8, 20, 10, 8, 8]\n",
    "x = 8\n",
    "                                        \n",
    "print(f'{x} has occurred {countX(lst,x)} times')"
   ]
  }
 ],
 "metadata": {
  "kernelspec": {
   "display_name": "Python 3 (ipykernel)",
   "language": "python",
   "name": "python3"
  },
  "language_info": {
   "codemirror_mode": {
    "name": "ipython",
    "version": 3
   },
   "file_extension": ".py",
   "mimetype": "text/x-python",
   "name": "python",
   "nbconvert_exporter": "python",
   "pygments_lexer": "ipython3",
   "version": "3.9.13"
  }
 },
 "nbformat": 4,
 "nbformat_minor": 5
}
