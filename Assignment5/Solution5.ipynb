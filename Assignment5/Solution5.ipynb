{
 "cells": [
  {
   "cell_type": "markdown",
   "id": "30917da1",
   "metadata": {},
   "source": [
    "### 1. Write a Python Program to Find LCM?"
   ]
  },
  {
   "cell_type": "code",
   "execution_count": 69,
   "id": "fef87770",
   "metadata": {},
   "outputs": [
    {
     "name": "stdout",
     "output_type": "stream",
     "text": [
      "enter the first number:4\n",
      "enter the seconnd number:5\n",
      "lcm is 20\n"
     ]
    }
   ],
   "source": [
    "a=int(input('enter the first number:'))\n",
    "b=int(input('enter the seconnd number:'))\n",
    "if a>b:\n",
    "    greater=a\n",
    "else:\n",
    "    greater=b\n",
    "while (1):\n",
    "    if(greater%a==0 and greater%b==0):\n",
    "        print('lcm is' ,greater)\n",
    "        break\n",
    "    greater=greater+1"
   ]
  },
  {
   "cell_type": "markdown",
   "id": "402d1913",
   "metadata": {},
   "source": [
    "### 2. Write a Python Program to Find HCF?\n",
    "\n"
   ]
  },
  {
   "cell_type": "code",
   "execution_count": 39,
   "id": "736cf7ab",
   "metadata": {},
   "outputs": [],
   "source": [
    "def hcf(x,y):\n",
    "    if x>y:\n",
    "        smaller=y\n",
    "    else:\n",
    "        smaller=x\n",
    "    for i in range(1,smaller+1):\n",
    "        if x%i==0 and y%i==0:\n",
    "            ans=i\n",
    "    return ans"
   ]
  },
  {
   "cell_type": "code",
   "execution_count": 40,
   "id": "e4e534a8",
   "metadata": {},
   "outputs": [
    {
     "data": {
      "text/plain": [
       "6"
      ]
     },
     "execution_count": 40,
     "metadata": {},
     "output_type": "execute_result"
    }
   ],
   "source": [
    "hcf(24,54)"
   ]
  },
  {
   "cell_type": "markdown",
   "id": "c9e4a164",
   "metadata": {},
   "source": [
    "### 3. Write a Python Program to Convert Decimal to Binary, Octal and Hexadecimal?"
   ]
  },
  {
   "cell_type": "code",
   "execution_count": 19,
   "id": "191dd0ea",
   "metadata": {},
   "outputs": [],
   "source": [
    "def Binary(n):\n",
    "    if n>1:\n",
    "        Binary(n//2)\n",
    "    print(n%2,end='')"
   ]
  },
  {
   "cell_type": "code",
   "execution_count": 34,
   "id": "b21fd126",
   "metadata": {},
   "outputs": [
    {
     "name": "stdout",
     "output_type": "stream",
     "text": [
      "100010"
     ]
    }
   ],
   "source": [
    "Binary(34)"
   ]
  },
  {
   "cell_type": "code",
   "execution_count": null,
   "id": "c8751c9e",
   "metadata": {},
   "outputs": [],
   "source": [
    "#Other away to find binary"
   ]
  },
  {
   "cell_type": "code",
   "execution_count": 35,
   "id": "a8d7420e",
   "metadata": {},
   "outputs": [
    {
     "name": "stdout",
     "output_type": "stream",
     "text": [
      "0b100010\n"
     ]
    }
   ],
   "source": [
    "print(bin(34))"
   ]
  },
  {
   "cell_type": "code",
   "execution_count": 36,
   "id": "dfae9548",
   "metadata": {},
   "outputs": [
    {
     "name": "stdout",
     "output_type": "stream",
     "text": [
      "0o74\n"
     ]
    }
   ],
   "source": [
    "# find the Octal \n",
    "print(oct(60))"
   ]
  },
  {
   "cell_type": "code",
   "execution_count": 37,
   "id": "4eb49be6",
   "metadata": {},
   "outputs": [
    {
     "name": "stdout",
     "output_type": "stream",
     "text": [
      "0x3c\n"
     ]
    }
   ],
   "source": [
    "# find the Hexadecimal\n",
    "print(hex(60))"
   ]
  },
  {
   "cell_type": "markdown",
   "id": "281370ea",
   "metadata": {},
   "source": [
    "### 4. Write a Python Program To Find ASCII value of a character?"
   ]
  },
  {
   "cell_type": "code",
   "execution_count": 52,
   "id": "40eaf8f4",
   "metadata": {},
   "outputs": [
    {
     "data": {
      "text/plain": [
       "122"
      ]
     },
     "execution_count": 52,
     "metadata": {},
     "output_type": "execute_result"
    }
   ],
   "source": [
    "#convert charcter into int\n",
    "#'A'=65,'Z'=90,a=97','z'=122\n",
    "ord('z')"
   ]
  },
  {
   "cell_type": "code",
   "execution_count": 68,
   "id": "02b624bc",
   "metadata": {},
   "outputs": [
    {
     "data": {
      "text/plain": [
       "'g'"
      ]
     },
     "execution_count": 68,
     "metadata": {},
     "output_type": "execute_result"
    }
   ],
   "source": [
    "# change into character\n",
    "chr(103)"
   ]
  },
  {
   "cell_type": "markdown",
   "id": "c58a6eb2",
   "metadata": {},
   "source": [
    "### 5. Write a Python Program to Make a Simple Calculator with 4 basic mathematical operations?"
   ]
  },
  {
   "cell_type": "code",
   "execution_count": 66,
   "id": "2f45fa65",
   "metadata": {},
   "outputs": [],
   "source": [
    "def calculation(x,y):\n",
    "    print(f'Addition of {x} and {y} is ',x+y)\n",
    "    print(f'Substraction of {x} and {y} is ',x-y)\n",
    "    print(f'Multiplication of {x} and {y} is ',x*y)\n",
    "    print(f'Division of {x} and {y} is ',x/y)"
   ]
  },
  {
   "cell_type": "code",
   "execution_count": 67,
   "id": "a44a0581",
   "metadata": {},
   "outputs": [
    {
     "name": "stdout",
     "output_type": "stream",
     "text": [
      "Addition of 11 and 2 is  13\n",
      "Substraction of 11 and 2 is  9\n",
      "Multiplication of 11 and 2 is  22\n",
      "Division of 11 and 2 is  5.5\n"
     ]
    }
   ],
   "source": [
    "calculation(11,2)"
   ]
  },
  {
   "cell_type": "code",
   "execution_count": null,
   "id": "aeaca01a",
   "metadata": {},
   "outputs": [],
   "source": []
  }
 ],
 "metadata": {
  "kernelspec": {
   "display_name": "Python 3 (ipykernel)",
   "language": "python",
   "name": "python3"
  },
  "language_info": {
   "codemirror_mode": {
    "name": "ipython",
    "version": 3
   },
   "file_extension": ".py",
   "mimetype": "text/x-python",
   "name": "python",
   "nbconvert_exporter": "python",
   "pygments_lexer": "ipython3",
   "version": "3.9.13"
  }
 },
 "nbformat": 4,
 "nbformat_minor": 5
}
