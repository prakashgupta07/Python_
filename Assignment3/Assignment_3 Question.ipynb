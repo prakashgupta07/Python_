{
 "cells": [
  {
   "cell_type": "markdown",
   "id": "ad3c798a",
   "metadata": {},
   "source": [
    "## Programming Assignment_3\n",
    "----------------"
   ]
  },
  {
   "cell_type": "markdown",
   "id": "fdeb4706",
   "metadata": {},
   "source": [
    "### 1. Write a Python Program to Check if a Number is Positive, Negative or Zero?"
   ]
  },
  {
   "cell_type": "markdown",
   "id": "086bfded",
   "metadata": {},
   "source": [
    "### 2. Write a Python Program to Check if a Number is Odd or Even?\n"
   ]
  },
  {
   "cell_type": "markdown",
   "id": "575e4f94",
   "metadata": {},
   "source": [
    "### 3. Write a Python Program to Check Leap Year?\n"
   ]
  },
  {
   "cell_type": "markdown",
   "id": "aa83ce63",
   "metadata": {},
   "source": [
    "### 4. Write a Python Program to Check Prime Number?"
   ]
  },
  {
   "cell_type": "markdown",
   "id": "b44b54ff",
   "metadata": {},
   "source": [
    "### 5. Write a Python Program to Print all Prime Numbers in an Interval of 1-10000?"
   ]
  }
 ],
 "metadata": {
  "kernelspec": {
   "display_name": "Python 3 (ipykernel)",
   "language": "python",
   "name": "python3"
  },
  "language_info": {
   "codemirror_mode": {
    "name": "ipython",
    "version": 3
   },
   "file_extension": ".py",
   "mimetype": "text/x-python",
   "name": "python",
   "nbconvert_exporter": "python",
   "pygments_lexer": "ipython3",
   "version": "3.9.12"
  }
 },
 "nbformat": 4,
 "nbformat_minor": 5
}
