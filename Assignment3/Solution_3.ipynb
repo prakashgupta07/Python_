{
 "cells": [
  {
   "cell_type": "markdown",
   "id": "d71cff6a",
   "metadata": {},
   "source": [
    "# 1. Write a Python Program to Check if a Number is Positive, Negative or Zero?"
   ]
  },
  {
   "cell_type": "code",
   "execution_count": 8,
   "id": "a937df84",
   "metadata": {},
   "outputs": [
    {
     "name": "stdout",
     "output_type": "stream",
     "text": [
      "Enter number \n",
      "0\n",
      "The number is Zero\n"
     ]
    }
   ],
   "source": [
    "n=int(input('Enter number \\n'))\n",
    "if n>0:\n",
    "    print('The number is Positive')\n",
    "elif n<0:\n",
    "        print('The number is Nesgative')\n",
    "else:\n",
    "    print('The number is Zero')"
   ]
  },
  {
   "cell_type": "markdown",
   "id": "3b4f6a7f",
   "metadata": {},
   "source": [
    "# 2. Write a Python Program to Check if a Number is Odd or Even?"
   ]
  },
  {
   "cell_type": "code",
   "execution_count": 11,
   "id": "a158be21",
   "metadata": {},
   "outputs": [
    {
     "name": "stdout",
     "output_type": "stream",
     "text": [
      "Enter your number! \n",
      "2\n",
      "The number is Even\n"
     ]
    }
   ],
   "source": [
    "n=int(input('Enter your number: \\n'))\n",
    "if n%2==0:\n",
    "    print('The number is Even')\n",
    "else:\n",
    "    print('The number is odd')"
   ]
  },
  {
   "cell_type": "markdown",
   "id": "c9038499",
   "metadata": {},
   "source": [
    "# 3. Write a Python Program to Check Leap Year?"
   ]
  },
  {
   "cell_type": "code",
   "execution_count": 15,
   "id": "62037aaf",
   "metadata": {},
   "outputs": [
    {
     "name": "stdout",
     "output_type": "stream",
     "text": [
      "Enter the Year: \n",
      "2345\n",
      "\n",
      "It is not a Leap Year\n"
     ]
    }
   ],
   "source": [
    "y = int(input(\"Enter the Year: \\n\"))\n",
    "\n",
    "if y%4==0 and y%100!=0:\n",
    "    print(\"\\nIt is a Leap Year\")\n",
    "elif y%400==0:\n",
    "    print(\"\\nIt is a Leap Year\")\n",
    "else:\n",
    "    print(\"\\nIt is not a Leap Year\")"
   ]
  },
  {
   "cell_type": "markdown",
   "id": "fab7887a",
   "metadata": {},
   "source": [
    "# 4. Write a Python Program to Check Prime Number?"
   ]
  },
  {
   "cell_type": "code",
   "execution_count": 17,
   "id": "2508ed8b",
   "metadata": {},
   "outputs": [
    {
     "name": "stdout",
     "output_type": "stream",
     "text": [
      "Enter the Number: \n",
      "5\n",
      "\n",
      "It is a Prime Number\n"
     ]
    }
   ],
   "source": [
    "num = int(input(\"Enter the Number: \\n\"))\n",
    "\n",
    "p = 0\n",
    "for i in range(2, num):\n",
    "    if num%i==0:\n",
    "        p = 1\n",
    "        break\n",
    "\n",
    "if p==0:\n",
    "    print(\"\\nIt is a Prime Number\")\n",
    "else:\n",
    "    print(\"\\nIt is not a Prime Number\")"
   ]
  },
  {
   "cell_type": "markdown",
   "id": "a17904ff",
   "metadata": {},
   "source": [
    "# 5. Write a Python Program to Print all Prime Numbers in an Interval of 1-10000"
   ]
  },
  {
   "cell_type": "code",
   "execution_count": 25,
   "id": "fe77dbca",
   "metadata": {},
   "outputs": [
    {
     "name": "stdout",
     "output_type": "stream",
     "text": [
      "1229\n"
     ]
    }
   ],
   "source": [
    "n=10000\n",
    "count=0\n",
    "for i in range(2,n+1):\n",
    "    p=0\n",
    "    for j in range(2,i):\n",
    "        if i%j==0:\n",
    "            p=1\n",
    "            break\n",
    "    if p==0:\n",
    "        count+=1\n",
    "                \n",
    "print(count)                \n",
    "                \n",
    "\n",
    "        \n",
    "            "
   ]
  },
  {
   "cell_type": "code",
   "execution_count": null,
   "id": "463fce7c",
   "metadata": {},
   "outputs": [],
   "source": []
  }
 ],
 "metadata": {
  "kernelspec": {
   "display_name": "Python 3 (ipykernel)",
   "language": "python",
   "name": "python3"
  },
  "language_info": {
   "codemirror_mode": {
    "name": "ipython",
    "version": 3
   },
   "file_extension": ".py",
   "mimetype": "text/x-python",
   "name": "python",
   "nbconvert_exporter": "python",
   "pygments_lexer": "ipython3",
   "version": "3.9.7"
  }
 },
 "nbformat": 4,
 "nbformat_minor": 5
}
