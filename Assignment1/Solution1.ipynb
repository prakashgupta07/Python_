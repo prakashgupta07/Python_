{
 "cells": [
  {
   "cell_type": "markdown",
   "id": "066d56d9",
   "metadata": {},
   "source": [
    "# 1. Write a Python program to print \"Hello Python\"?\n",
    "\n"
   ]
  },
  {
   "cell_type": "code",
   "execution_count": 1,
   "id": "4e9372c9",
   "metadata": {},
   "outputs": [
    {
     "name": "stdout",
     "output_type": "stream",
     "text": [
      "Hello Python\n"
     ]
    }
   ],
   "source": [
    "print('Hello Python')"
   ]
  },
  {
   "cell_type": "markdown",
   "id": "37312fd9",
   "metadata": {},
   "source": [
    "# 2. Write a Python program to do arithmetical operations addition and division.?"
   ]
  },
  {
   "cell_type": "code",
   "execution_count": 6,
   "id": "8e8e7444",
   "metadata": {},
   "outputs": [],
   "source": [
    "x=4 \n",
    "y=2\n",
    "\n",
    "# Addition\n",
    "add=x+y\n",
    "\n",
    "# Division\n",
    "div=x/y"
   ]
  },
  {
   "cell_type": "code",
   "execution_count": null,
   "id": "36764a67",
   "metadata": {},
   "outputs": [],
   "source": [
    "print(add)\n",
    "print(div)"
   ]
  },
  {
   "cell_type": "markdown",
   "id": "7b6fcf56",
   "metadata": {},
   "source": [
    "# 3. Write a Python program to find the area of a triangle?"
   ]
  },
  {
   "cell_type": "code",
   "execution_count": 8,
   "id": "27e60f4a",
   "metadata": {},
   "outputs": [],
   "source": [
    "base=3\n",
    "height=5\n",
    "# Area of triangle\n",
    "Area=1/2*base*height"
   ]
  },
  {
   "cell_type": "code",
   "execution_count": 10,
   "id": "3cddc874",
   "metadata": {},
   "outputs": [
    {
     "name": "stdout",
     "output_type": "stream",
     "text": [
      "7.5\n"
     ]
    }
   ],
   "source": [
    "print(Area)"
   ]
  },
  {
   "cell_type": "markdown",
   "id": "64b5d809",
   "metadata": {},
   "source": [
    "# 4. Write a Python program to swap two variables?"
   ]
  },
  {
   "cell_type": "code",
   "execution_count": 17,
   "id": "e5f64e88",
   "metadata": {},
   "outputs": [
    {
     "name": "stdout",
     "output_type": "stream",
     "text": [
      "The value of a 20\n",
      "The value of b 10\n"
     ]
    }
   ],
   "source": [
    "## using third variables\n",
    "a=10\n",
    "b=20\n",
    "#swaping two variable\n",
    "temp=a\n",
    "a=b\n",
    "b=temp\n",
    "print('The value of a',a)\n",
    "print('The value of b',b)"
   ]
  },
  {
   "cell_type": "code",
   "execution_count": 15,
   "id": "f19d2ae0",
   "metadata": {},
   "outputs": [
    {
     "name": "stdout",
     "output_type": "stream",
     "text": [
      "The value of a 20\n",
      "The value of b 10\n"
     ]
    }
   ],
   "source": [
    "# using without third variables\n",
    "a=10\n",
    "b=20\n",
    "#swaping two variables\n",
    "\n",
    "a,b=b,a\n",
    "print('The value of a',a)\n",
    "print('The value of b',b)\n"
   ]
  },
  {
   "cell_type": "markdown",
   "id": "e54c2dd4",
   "metadata": {},
   "source": [
    "# 5. Write a Python program to generate a random number?"
   ]
  },
  {
   "cell_type": "code",
   "execution_count": 43,
   "id": "740eb915",
   "metadata": {},
   "outputs": [
    {
     "name": "stdout",
     "output_type": "stream",
     "text": [
      "83\n"
     ]
    }
   ],
   "source": [
    "import random\n",
    "print(random.randint(0,100))# range between 0 to 100"
   ]
  }
 ],
 "metadata": {
  "kernelspec": {
   "display_name": "Python 3 (ipykernel)",
   "language": "python",
   "name": "python3"
  },
  "language_info": {
   "codemirror_mode": {
    "name": "ipython",
    "version": 3
   },
   "file_extension": ".py",
   "mimetype": "text/x-python",
   "name": "python",
   "nbconvert_exporter": "python",
   "pygments_lexer": "ipython3",
   "version": "3.9.7"
  }
 },
 "nbformat": 4,
 "nbformat_minor": 5
}
